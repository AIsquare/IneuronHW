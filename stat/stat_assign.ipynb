{
 "cells": [
  {
   "cell_type": "code",
   "execution_count": 1,
   "metadata": {},
   "outputs": [],
   "source": [
    "import scipy.stats as sts\n",
    "from scipy.stats import norm\n",
    "import math\n",
    "import numpy as np"
   ]
  },
  {
   "cell_type": "markdown",
   "metadata": {},
   "source": [
    "**Problem Statement 1:**<br>\n",
    "Blood glucose levels for obese patients have a mean of 100 with a standard deviation of 15.A researcher thinks that a diet high in raw cornstarch will have a positive effect on blood glucose levels. A sample of 36 patients who have tried the raw cornstarch diet have a mean glucose level of 108. Test the hypothesis that the raw cornstarch had an effect or not."
   ]
  },
  {
   "cell_type": "code",
   "execution_count": 15,
   "metadata": {},
   "outputs": [],
   "source": [
    "u = 100\n",
    "sigma = 15\n",
    "x = 36\n",
    "sample_u = 108\n",
    "alpha = 0.05\n",
    "'z = (x  - u)/sigma/math.sqrt(n)'\n",
    "denom = sigma/math.sqrt(36)\n",
    "#print(denom)\n",
    "z = (108 - 100)/denom\n"
   ]
  },
  {
   "cell_type": "code",
   "execution_count": 16,
   "metadata": {},
   "outputs": [
    {
     "name": "stdout",
     "output_type": "stream",
     "text": [
      "3.2\n",
      "since the z score is 3.2 looking at the z table it is 0.9993 or 99.93 % this concludes that the probability of having no effect of raw cornstarch is 99.93 %\n"
     ]
    }
   ],
   "source": [
    "print(z)\n",
    "print(\"since the z score is 3.2 looking at the z table it is 0.9993 or 99.93 % \\\n",
    "this concludes that the probability of having no effect of raw cornstarch is 99.93 %\")"
   ]
  },
  {
   "cell_type": "markdown",
   "metadata": {},
   "source": [
    "**Problem Statement 2:**<br>\n",
    "In one state, 52% of the voters are Republicans, and 48% are Democrats. In a second state, 47% of the voters are Republicans, and 53% are Democrats. Suppose a simple random sample of 100 voters are surveyed from each state. What is the probability that the survey will show a greater percentage of Republican voters in the second state than in the first state?"
   ]
  },
  {
   "cell_type": "code",
   "execution_count": 10,
   "metadata": {},
   "outputs": [
    {
     "name": "stdout",
     "output_type": "stream",
     "text": [
      "-0.7080278164104213\n"
     ]
    }
   ],
   "source": [
    "n1 = 100\n",
    "n2 = 100\n",
    "r1 = 0.52\n",
    "d1 = 0.48\n",
    "r2 = 0.47\n",
    "d2 = 0.53\n",
    "\n",
    "u = r1 - r2\n",
    "std = math.sqrt(((r1 * d1)/n1) + ((r2 * d2)/n2))\n",
    "x = 0\n",
    "z_score = (x-u)/std\n",
    "print(z_score)\n"
   ]
  },
  {
   "cell_type": "markdown",
   "metadata": {},
   "source": [
    "\"From the z-table we conclude that probability of that the survey will show a greater percentage \\\n",
    "of republicans voters 24 % \""
   ]
  },
  {
   "cell_type": "markdown",
   "metadata": {},
   "source": [
    "**Problem Statement 3:**<br>\n",
    "You take the SAT and score 1100. The mean score for the SAT is 1026 and the standard deviation is 209. How well did you score on the test compared to the average test taker?"
   ]
  },
  {
   "cell_type": "code",
   "execution_count": 18,
   "metadata": {},
   "outputs": [
    {
     "name": "stdout",
     "output_type": "stream",
     "text": [
      "Z-score of 0.35406698564593303 above mean\n"
     ]
    }
   ],
   "source": [
    "u = 1026\n",
    "std = 209\n",
    "x = 1100\n",
    "z = (x - u)/std\n",
    "z\n",
    "print(\"Z-score of {} above mean\".format(z))"
   ]
  },
  {
   "cell_type": "code",
   "execution_count": null,
   "metadata": {},
   "outputs": [],
   "source": []
  }
 ],
 "metadata": {
  "kernelspec": {
   "display_name": "Python 3",
   "language": "python",
   "name": "python3"
  },
  "language_info": {
   "codemirror_mode": {
    "name": "ipython",
    "version": 3
   },
   "file_extension": ".py",
   "mimetype": "text/x-python",
   "name": "python",
   "nbconvert_exporter": "python",
   "pygments_lexer": "ipython3",
   "version": "3.7.5"
  }
 },
 "nbformat": 4,
 "nbformat_minor": 4
}
